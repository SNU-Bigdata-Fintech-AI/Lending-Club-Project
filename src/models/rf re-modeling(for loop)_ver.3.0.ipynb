{
  "cells": [
    {
      "cell_type": "code",
      "execution_count": 10,
      "metadata": {
        "id": "I0BlQ9x3vZIO"
      },
      "outputs": [],
      "source": [
        "import pandas as pd\n",
        "import numpy as np\n",
        "from sklearn.model_selection import train_test_split\n",
        "from sklearn.ensemble import RandomForestClassifier\n",
        "from sklearn.metrics import roc_auc_score, accuracy_score\n",
        "from tqdm import tqdm"
      ]
    },
    {
      "cell_type": "code",
      "execution_count": 2,
      "metadata": {
        "id": "Bcpw6iRjWjj6"
      },
      "outputs": [],
      "source": [
        "# 데이터 로드\n",
        "df = pd.read_csv('preprocessed_data_ver.2.3._IRR+LOG+BINARY.csv')"
      ]
    },
    {
      "cell_type": "code",
      "execution_count": 3,
      "metadata": {
        "id": "29oQDGaoxsRG"
      },
      "outputs": [],
      "source": [
        "# 모든 열 다 보기\n",
        "pd.set_option('display.max_columns', None)\n",
        "\n",
        "# 모든 행 다 보기\n",
        "pd.set_option('display.max_rows', None)\n",
        "\n",
        "# 열 너비 넉넉하게\n",
        "pd.set_option('display.width', None)\n",
        "\n",
        "# 열 안의 값 자르지 않게\n",
        "pd.set_option('display.max_colwidth', None)"
      ]
    },
    {
      "cell_type": "code",
      "execution_count": null,
      "metadata": {
        "colab": {
          "base_uri": "https://localhost:8080/",
          "height": 244
        },
        "id": "edT7-JE0xbU_",
        "outputId": "c90e120e-2453-42d8-a7c5-7b6651a9318b"
      },
      "outputs": [],
      "source": [
        "df.head()"
      ]
    },
    {
      "cell_type": "code",
      "execution_count": 4,
      "metadata": {
        "colab": {
          "base_uri": "https://localhost:8080/"
        },
        "id": "hozqjjyKv3py",
        "outputId": "96b33f03-ba58-469c-e380-62c4ff248d8b"
      },
      "outputs": [],
      "source": [
        "# 독립변수에서 제외할 변수 목록\n",
        "drop_cols = [\n",
        "    'term', 'last_pymnt_d', 'installment', 'funded_amnt',\n",
        "    'recoveries', 'collection_recovery_fee', 'default', 'issue_d'\n",
        "]\n",
        "\n",
        "X = df.drop(columns=drop_cols)\n",
        "y = df['default']"
      ]
    },
    {
      "cell_type": "code",
      "execution_count": 5,
      "metadata": {
        "colab": {
          "base_uri": "https://localhost:8080/"
        },
        "id": "rgGQMAVYRrEp",
        "outputId": "3c0b3aec-d43e-41f9-e3aa-0c02f33d4222"
      },
      "outputs": [
        {
          "name": "stdout",
          "output_type": "stream",
          "text": [
            "1953-04-01    2.51\n",
            "1953-05-01    2.72\n",
            "1953-06-01    2.74\n",
            "1953-07-01    2.62\n",
            "1953-08-01    2.58\n",
            "dtype: float64\n"
          ]
        }
      ],
      "source": [
        "from fredapi import Fred\n",
        "\n",
        "# FRED API 연결\n",
        "fred = Fred(api_key=\"f9ef939a9a1eeff85d31ed2c984507d9\")  # 🔑 실제 API 키로 대체해야 함\n",
        "\n",
        "# 미국 3년 만기 국채 수익률(GS3) 시계열 불러오기\n",
        "series = fred.get_series('GS3')  # pandas.Series 형식으로 반환됨\n",
        "\n",
        "\n",
        "print(series.head())"
      ]
    },
    {
      "cell_type": "code",
      "execution_count": null,
      "metadata": {
        "id": "Wutwi56B3MnD"
      },
      "outputs": [],
      "source": [
        "def get_nearest_rate(issue_date, rate_series):\n",
        "    if pd.isnull(issue_date):\n",
        "        return np.nan\n",
        "    try:\n",
        "        idx = rate_series.index.get_indexer([issue_date], method='nearest')[0]\n",
        "        return rate_series.iloc[idx] / 100  # % 단위 → 소수로 변환\n",
        "    except Exception as e:\n",
        "        print(f\"Error: {issue_date} ▶ {e}\")\n",
        "        return np.nan\n",
        "\n",
        "\n",
        "df['risk_free_rate'] = df['issue_d'].apply(lambda x: get_nearest_rate(x, series))\n",
        "\n",
        "\n"
      ]
    },
    {
      "cell_type": "code",
      "execution_count": 8,
      "metadata": {},
      "outputs": [],
      "source": [
        "df['last_pymnt_d'] = pd.to_datetime(df['last_pymnt_d'])\n",
        "df['issue_d'] = pd.to_datetime(df['issue_d'])  # 혹시 모르니 이것도"
      ]
    },
    {
      "cell_type": "code",
      "execution_count": 9,
      "metadata": {},
      "outputs": [
        {
          "name": "stdout",
          "output_type": "stream",
          "text": [
            "     issue_d  risk_free_rate last_pymnt_d\n",
            "0 2017-12-01          0.0196   2020-04-01\n",
            "1 2016-07-01          0.0079   2016-12-01\n",
            "2 2017-10-01          0.0168   2019-08-01\n",
            "3 2017-05-01          0.0148   2019-03-01\n",
            "4 2015-09-01          0.0101   2018-10-01\n"
          ]
        }
      ],
      "source": [
        "print(df[['issue_d', 'risk_free_rate', 'last_pymnt_d']].head())"
      ]
    },
    {
      "cell_type": "code",
      "execution_count": 11,
      "metadata": {
        "id": "tdIEJjqB4uZF"
      },
      "outputs": [],
      "source": [
        "from dateutil.relativedelta import relativedelta\n",
        "\n",
        "def create_cash_flow_from_dates(row):\n",
        "    try:\n",
        "        term = int(row['term'])\n",
        "        default = int(row['default'])\n",
        "        issue_d = row['issue_d']  # 이미 datetime 형식\n",
        "        last_pymnt_d = pd.to_datetime(row['last_pymnt_d'])  # 이건 문자열일 수도 있으니 변환\n",
        "        installment = float(row['installment'])\n",
        "        funded_amnt = float(row['funded_amnt'])\n",
        "        recoveries = float(row['recoveries'])\n",
        "        collection_fee = float(row['collection_recovery_fee'])\n",
        "\n",
        "        # 첫 현금흐름: 대출 실행\n",
        "        cash_flow = [-funded_amnt]\n",
        "\n",
        "        if pd.isnull(issue_d) or pd.isnull(last_pymnt_d):\n",
        "            return np.nan\n",
        "\n",
        "        # 몇 회차까지 납입했는지 계산\n",
        "        delta = relativedelta(last_pymnt_d, issue_d)\n",
        "        last_pymnt_num = delta.years * 12 + delta.months\n",
        "\n",
        "        for month in range(1, term + 1):\n",
        "            if default == 1:\n",
        "                if month <= last_pymnt_num:\n",
        "                    cash_flow.append(installment)\n",
        "                elif month == last_pymnt_num + 1:\n",
        "                    cash_flow.append(recoveries - collection_fee)\n",
        "                else:\n",
        "                    cash_flow.append(0)\n",
        "            else:\n",
        "                cash_flow.append(installment)\n",
        "\n",
        "        return cash_flow\n",
        "\n",
        "    except Exception as e:\n",
        "        print(f\"[오류] index={row.name}, error={e}\")\n",
        "        return np.nan\n"
      ]
    },
    {
      "cell_type": "code",
      "execution_count": 12,
      "metadata": {
        "id": "cNS1Bp8jw3yL"
      },
      "outputs": [],
      "source": [
        "df['cash_flow'] = df.apply(create_cash_flow_from_dates, axis=1)"
      ]
    },
    {
      "cell_type": "code",
      "execution_count": null,
      "metadata": {
        "colab": {
          "base_uri": "https://localhost:8080/"
        },
        "id": "inCwlhEZ47ME",
        "outputId": "ef2c8081-2e4a-4454-acf0-67b5fb9667a8"
      },
      "outputs": [],
      "source": [
        "!pip install numpy-financial"
      ]
    },
    {
      "cell_type": "code",
      "execution_count": 13,
      "metadata": {
        "id": "iJLp1YqD4uJs"
      },
      "outputs": [],
      "source": [
        "import numpy_financial as npf\n",
        "\n",
        "def get_irr(cash_flow):\n",
        "    if not isinstance(cash_flow, list) or len(cash_flow) == 0:\n",
        "        return np.nan\n",
        "    irr_monthly = npf.irr(cash_flow)\n",
        "    if irr_monthly is None or np.isnan(irr_monthly):\n",
        "        return np.nan\n",
        "    return (1 + irr_monthly) ** 12 - 1  # 연환산"
      ]
    },
    {
      "cell_type": "code",
      "execution_count": 14,
      "metadata": {},
      "outputs": [],
      "source": [
        "df['irr'] = df['cash_flow'].apply(get_irr)"
      ]
    },
    {
      "cell_type": "code",
      "execution_count": 15,
      "metadata": {},
      "outputs": [],
      "source": [
        "df['irr'] = df['irr'].fillna(df['risk_free_rate'])"
      ]
    },
    {
      "cell_type": "markdown",
      "metadata": {},
      "source": [
        "df['irr'] = df['cash_flow'].apply(lambda x: np.irr(x) if isinstance(x, list) else np.nan)\n"
      ]
    },
    {
      "cell_type": "markdown",
      "metadata": {
        "id": "EPrl9P900j5t"
      },
      "source": [
        "\n",
        "\n",
        "---\n",
        "\n"
      ]
    },
    {
      "cell_type": "code",
      "execution_count": 16,
      "metadata": {},
      "outputs": [],
      "source": [
        "from sklearn.ensemble import RandomForestClassifier\n",
        "from sklearn.model_selection import train_test_split"
      ]
    },
    {
      "cell_type": "code",
      "execution_count": 17,
      "metadata": {},
      "outputs": [],
      "source": [
        "# 결과 저장용 리스트\n",
        "best_thresholds = []\n",
        "validation_sharpes = []\n",
        "test_sharpes = []\n",
        "test_approval_rates = []\n",
        "test_irr_means = []\n",
        "test_irr_positive_rates = []\n",
        "\n",
        "\n",
        "# Sharpe 계산 함수\n",
        "def calculate_sharpe(returns, risk_free_rates):\n",
        "    excess = returns - risk_free_rates\n",
        "    if excess.std(ddof=1) == 0:\n",
        "        return -np.inf\n",
        "    return excess.mean() / excess.std(ddof=1)"
      ]
    },
    {
      "cell_type": "code",
      "execution_count": null,
      "metadata": {},
      "outputs": [],
      "source": [
        "for i in range(2):\n",
        "    # Train-test-split\n",
        "    # 먼저 test 데이터 분리 (20%)\n",
        "    X_temp, X_test, y_temp, y_test = train_test_split(\n",
        "        X, y, test_size=0.2, random_state=i, stratify=y\n",
        "    )\n",
        "\n",
        "    # 남은 80% 중에서 train (60%) / val (20%) 분리\n",
        "    X_train, X_val, y_train, y_val = train_test_split(\n",
        "        X_temp, y_temp, test_size=0.25, random_state=i, stratify=y_temp\n",
        "    )\n",
        "    # 랜덤 포레스트 모델 학습 (기본 하이퍼파라미터)\n",
        "    model = RandomForestClassifier(random_state=42)\n",
        "    model.fit(X_train, y_train)\n",
        "\n",
        "    # 검증 세트에 대한 부도 확률 예측\n",
        "    y_pred_proba = model.predict_proba(X_val)[:, 1]\n",
        "\n",
        "    # 사용할 threshold 후보들\n",
        "    thresholds = np.arange(0.0, 0.95, 0.05)\n",
        "\n",
        "    best_sharpe = -np.inf\n",
        "    best_threshold = None\n",
        "\n",
        "    # X_val의 인덱스를 이용해 df에서 대응하는 행 추출\n",
        "    val_indices = X_val.index\n",
        "    df_val = df.loc[val_indices]\n",
        "\n",
        "    for threshold in thresholds:\n",
        "        approved_mask = y_pred_proba <= threshold\n",
        "        denied_mask = ~approved_mask\n",
        "\n",
        "        selected = df_val.copy()\n",
        "        \n",
        "        # 승인된 건: 실제 IRR 사용\n",
        "        selected.loc[approved_mask, 'irr_adj'] = selected.loc[approved_mask, 'irr']\n",
        "\n",
        "        # 거절된 건: IRR을 국채수익률로 설정\n",
        "        selected.loc[denied_mask, 'irr_adj'] = selected.loc[denied_mask, 'risk_free_rate']\n",
        "\n",
        "        # 수익률과 무위험수익률 추출\n",
        "        returns = selected['irr_adj']\n",
        "        risk_free = selected['risk_free_rate']\n",
        "\n",
        "        # NaN 제거\n",
        "        valid = returns.notnull() & risk_free.notnull()\n",
        "        if valid.sum() < 2:\n",
        "            continue\n",
        "\n",
        "        sharpe = calculate_sharpe(returns[valid], risk_free[valid])\n",
        "\n",
        "        if sharpe > best_sharpe:\n",
        "            best_sharpe = sharpe\n",
        "            best_threshold = threshold\n",
        "\n",
        "    # 저장\n",
        "    best_thresholds.append(best_threshold)\n",
        "    validation_sharpes.append(best_sharpe)\n",
        "\n",
        "    # 4. Test 성능 측정\n",
        "    y_test_proba = model.predict_proba(X_test)[:, 1]\n",
        "    test_approved_mask = y_test_proba <= best_threshold\n",
        "    df_test = df.loc[X_test.index]\n",
        "    test_selected = df_test[test_approved_mask]\n",
        "\n",
        "    returns_test = test_selected['irr']\n",
        "    risk_free_test = test_selected['risk_free_rate']\n",
        "\n",
        "    valid = returns_test.notnull() & risk_free_test.notnull()\n",
        "    returns_test = returns_test[valid]\n",
        "    risk_free_test = risk_free_test[valid]\n",
        "\n",
        "    sharpe_test = calculate_sharpe(returns_test, risk_free_test)\n",
        "\n",
        "    test_sharpes.append(sharpe_test)\n",
        "    test_approval_rates.append(len(returns_test) / len(df_test))\n",
        "    test_irr_means.append(returns_test.mean())\n",
        "    test_irr_positive_rates.append((returns_test > 0).mean())"
      ]
    },
    {
      "cell_type": "code",
      "execution_count": null,
      "metadata": {},
      "outputs": [],
      "source": [
        "print(\"Best thresholds from 2 runs:\")\n",
        "print(best_thresholds)\n",
        "\n",
        "print(\"\\nValidation Sharpe Ratios from 2 runs:\")\n",
        "print(validation_sharpes)\n",
        "\n",
        "print(\"\\nTest Sharpe Ratios from 2 runs:\")\n",
        "print(test_sharpes)\n",
        "\n",
        "print(\"\\nTest Approval Rates:\")\n",
        "print(test_approval_rates)\n",
        "\n",
        "print(\"\\nTest IRR Means:\")\n",
        "print(test_irr_means)\n",
        "\n",
        "print(\"\\nTest IRR Positive Rates:\")\n",
        "print(test_irr_positive_rates)\n"
      ]
    }
  ],
  "metadata": {
    "colab": {
      "machine_shape": "hm",
      "provenance": []
    },
    "kernelspec": {
      "display_name": "base",
      "language": "python",
      "name": "python3"
    },
    "language_info": {
      "codemirror_mode": {
        "name": "ipython",
        "version": 3
      },
      "file_extension": ".py",
      "mimetype": "text/x-python",
      "name": "python",
      "nbconvert_exporter": "python",
      "pygments_lexer": "ipython3",
      "version": "3.13.5"
    }
  },
  "nbformat": 4,
  "nbformat_minor": 0
}
