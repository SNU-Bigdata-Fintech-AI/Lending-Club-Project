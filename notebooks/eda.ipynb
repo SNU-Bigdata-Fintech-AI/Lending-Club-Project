{
 "cells": [
  {
   "cell_type": "code",
   "execution_count": 1,
   "id": "84487515",
   "metadata": {},
   "outputs": [
    {
     "name": "stdout",
     "output_type": "stream",
     "text": [
      "          id  loan_amnt  funded_amnt  funded_amnt_inv        term int_rate  \\\n",
      "0  124989905     6000.0       6000.0           6000.0   36 months    7.97%   \n",
      "1  139665484    35000.0      35000.0          35000.0   60 months   14.47%   \n",
      "2   84253847    23200.0      23200.0          23200.0   60 months   24.99%   \n",
      "\n",
      "   installment grade sub_grade           emp_title  ... hardship_start_date  \\\n",
      "0       187.94     A        A5             Teacher  ...                 NaN   \n",
      "1       822.95     C        C2  Product Specialist  ...                 NaN   \n",
      "2       680.82     E        E4  Production Foreman  ...                 NaN   \n",
      "\n",
      "  hardship_end_date  payment_plan_start_date hardship_length hardship_dpd  \\\n",
      "0               NaN                      NaN             NaN          NaN   \n",
      "1               NaN                      NaN             NaN          NaN   \n",
      "2               NaN                      NaN             NaN          NaN   \n",
      "\n",
      "  hardship_loan_status orig_projected_additional_accrued_interest  \\\n",
      "0                  NaN                                        NaN   \n",
      "1                  NaN                                        NaN   \n",
      "2                  NaN                                        NaN   \n",
      "\n",
      "  hardship_payoff_balance_amount hardship_last_payment_amount  \\\n",
      "0                            NaN                          NaN   \n",
      "1                            NaN                          NaN   \n",
      "2                            NaN                          NaN   \n",
      "\n",
      "  debt_settlement_flag  \n",
      "0                    N  \n",
      "1                    N  \n",
      "2                    Y  \n",
      "\n",
      "[3 rows x 141 columns]\n"
     ]
    }
   ],
   "source": [
    "import pandas as pd\n",
    "df = pd.read_csv('../data/raw/lending_club_2020_train.csv', low_memory = False) \n",
    "print(df.head(3))"
   ]
  },
  {
   "cell_type": "code",
   "execution_count": 1,
   "id": "1ed7c2e0",
   "metadata": {},
   "outputs": [
    {
     "name": "stderr",
     "output_type": "stream",
     "text": [
      "/var/folders/mc/c2xlw1v55mvcpklv1sgzmldc0000gn/T/ipykernel_13672/1159916044.py:4: DtypeWarning: Columns (0) have mixed types. Specify dtype option on import or set low_memory=False.\n",
      "  df = pd.read_csv(url)\n"
     ]
    },
    {
     "name": "stdout",
     "output_type": "stream",
     "text": [
      "          id  loan_amnt  funded_amnt  funded_amnt_inv        term int_rate  \\\n",
      "0  124989905     6000.0       6000.0           6000.0   36 months    7.97%   \n",
      "1  139665484    35000.0      35000.0          35000.0   60 months   14.47%   \n",
      "2   84253847    23200.0      23200.0          23200.0   60 months   24.99%   \n",
      "3  126296074     4500.0       4500.0           4500.0   36 months    9.93%   \n",
      "4  148913312    15000.0      15000.0          15000.0   36 months   16.40%   \n",
      "\n",
      "   installment grade sub_grade           emp_title  ... hardship_start_date  \\\n",
      "0       187.94     A        A5             Teacher  ...                 NaN   \n",
      "1       822.95     C        C2  Product Specialist  ...                 NaN   \n",
      "2       680.82     E        E4  Production Foreman  ...                 NaN   \n",
      "3       145.06     B        B2      Office Manager  ...                 NaN   \n",
      "4       530.33     C        C4           Secretary  ...            May-2020   \n",
      "\n",
      "  hardship_end_date  payment_plan_start_date hardship_length hardship_dpd  \\\n",
      "0               NaN                      NaN             NaN          NaN   \n",
      "1               NaN                      NaN             NaN          NaN   \n",
      "2               NaN                      NaN             NaN          NaN   \n",
      "3               NaN                      NaN             NaN          NaN   \n",
      "4          Jul-2020                 May-2020             2.0          0.0   \n",
      "\n",
      "  hardship_loan_status orig_projected_additional_accrued_interest  \\\n",
      "0                  NaN                                        NaN   \n",
      "1                  NaN                                        NaN   \n",
      "2                  NaN                                        NaN   \n",
      "3                  NaN                                        NaN   \n",
      "4               ACTIVE                                     413.83   \n",
      "\n",
      "  hardship_payoff_balance_amount hardship_last_payment_amount  \\\n",
      "0                            NaN                          NaN   \n",
      "1                            NaN                          NaN   \n",
      "2                            NaN                          NaN   \n",
      "3                            NaN                          NaN   \n",
      "4                       11025.25                        54.62   \n",
      "\n",
      "  debt_settlement_flag  \n",
      "0                    N  \n",
      "1                    N  \n",
      "2                    Y  \n",
      "3                    N  \n",
      "4                    N  \n",
      "\n",
      "[5 rows x 141 columns]\n"
     ]
    }
   ],
   "source": [
    "import pandas as pd\n",
    "\n",
    "url = \"https://snu-bigdata-fintech-ai.s3.ap-northeast-2.amazonaws.com/lending_club_2020_train.csv\"\n",
    "df = pd.read_csv(url)\n",
    "\n",
    "print(df.head())\n"
   ]
  },
  {
   "cell_type": "code",
   "execution_count": null,
   "id": "cd303105",
   "metadata": {},
   "outputs": [],
   "source": []
  }
 ],
 "metadata": {
  "kernelspec": {
   "display_name": "Python 3",
   "language": "python",
   "name": "python3"
  },
  "language_info": {
   "codemirror_mode": {
    "name": "ipython",
    "version": 3
   },
   "file_extension": ".py",
   "mimetype": "text/x-python",
   "name": "python",
   "nbconvert_exporter": "python",
   "pygments_lexer": "ipython3",
   "version": "3.12.3"
  }
 },
 "nbformat": 4,
 "nbformat_minor": 5
}
