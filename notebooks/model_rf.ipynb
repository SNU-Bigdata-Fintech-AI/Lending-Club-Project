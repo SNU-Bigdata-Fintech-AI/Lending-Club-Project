{
  "nbformat": 4,
  "nbformat_minor": 0,
  "metadata": {
    "colab": {
      "provenance": []
    },
    "kernelspec": {
      "name": "python3",
      "display_name": "Python 3"
    },
    "language_info": {
      "name": "python"
    }
  },
  "cells": [
    {
      "cell_type": "code",
      "execution_count": 1,
      "metadata": {
        "colab": {
          "base_uri": "https://localhost:8080/"
        },
        "id": "8ZGKgMcSJiw6",
        "outputId": "5ab280cc-1c28-4211-91dc-c80f9c6e376b"
      },
      "outputs": [
        {
          "output_type": "stream",
          "name": "stdout",
          "text": [
            "Mounted at /content/drive\n"
          ]
        }
      ],
      "source": [
        "from google.colab import drive\n",
        "drive.mount('/content/drive')"
      ]
    },
    {
      "cell_type": "code",
      "source": [
        "import pandas as pd\n",
        "import numpy as np\n",
        "from sklearn.ensemble import RandomForestClassifier\n",
        "from sklearn.metrics import roc_auc_score, accuracy_score\n",
        "from sklearn.model_selection import train_test_split\n",
        "from tqdm import tqdm\n",
        "\n",
        "# 1. 데이터 불러오기\n",
        "file_path = \"/content/drive/MyDrive/통계데이터사이언스/lending_club/lending_club_processed2.csv\"\n",
        "df = pd.read_csv(file_path)\n",
        "\n",
        "# 2. 종속변수, 독립변수 분리\n",
        "y = df['default']\n",
        "X = df.drop(columns=['default'])\n",
        "\n",
        "# 3. 결과 저장용 리스트\n",
        "auc_list = []\n",
        "acc_list = []\n",
        "\n",
        "# 4. 3회 반복 평가\n",
        "for _ in tqdm(range(3), desc=\"Random Forest 3회 반복\"):\n",
        "    # 4-1. Train(60%) / Valid(20%) / Test(20%) 분할\n",
        "    X_temp, X_test, y_temp, y_test = train_test_split(X, y, test_size=0.2, stratify=y, random_state=None)\n",
        "    X_train, X_valid, y_train, y_valid = train_test_split(X_temp, y_temp, test_size=0.25, stratify=y_temp, random_state=None)\n",
        "\n",
        "    # 4-2. 모델 학습\n",
        "    model = RandomForestClassifier(\n",
        "        n_estimators=100,\n",
        "        max_depth=None,\n",
        "        random_state=None,\n",
        "        n_jobs=-1\n",
        "    )\n",
        "    model.fit(X_train, y_train)\n",
        "\n",
        "    # 4-3. 성능 평가 (Test셋 기준)\n",
        "    y_pred_prob = model.predict_proba(X_test)[:, 1]\n",
        "    y_pred = model.predict(X_test)\n",
        "    auc = roc_auc_score(y_test, y_pred_prob)\n",
        "    acc = accuracy_score(y_test, y_pred)\n",
        "\n",
        "    # 4-4. 기록\n",
        "    auc_list.append(auc)\n",
        "    acc_list.append(acc)\n",
        "\n",
        "# 5. 평균 및 표준편차 출력\n",
        "print(\"\\n최종 성능 요약 (Test set 기준)\")\n",
        "print(f\"AUC 평균: {np.mean(auc_list):.4f} ± {np.std(auc_list):.4f}\")\n",
        "print(f\"ACC 평균: {np.mean(acc_list):.4f} ± {np.std(acc_list):.4f}\")\n"
      ],
      "metadata": {
        "colab": {
          "base_uri": "https://localhost:8080/"
        },
        "id": "Flkzjn2-NHY8",
        "outputId": "b4d74900-66e4-4654-872a-cbfe8fa93e94"
      },
      "execution_count": 2,
      "outputs": [
        {
          "output_type": "stream",
          "name": "stderr",
          "text": [
            "Random Forest 3회 반복: 100%|██████████| 3/3 [24:35<00:00, 492.00s/it]"
          ]
        },
        {
          "output_type": "stream",
          "name": "stdout",
          "text": [
            "\n",
            "최종 성능 요약 (Test set 기준)\n",
            "AUC 평균: 0.9372 ± 0.0004\n",
            "ACC 평균: 0.8976 ± 0.0004\n"
          ]
        },
        {
          "output_type": "stream",
          "name": "stderr",
          "text": [
            "\n"
          ]
        }
      ]
    },
    {
      "cell_type": "code",
      "source": [
        "# 1. 확률 기준 설정\n",
        "threshold = 0.7\n",
        "\n",
        "# 2. 투자 대상 선택\n",
        "invest_idx = y_pred_prob > threshold\n",
        "invest_results = y_test[invest_idx].reset_index(drop=True)\n",
        "\n",
        "# 3. 수익률 계산: 성공(+1), 실패(-1)\n",
        "returns = invest_results.apply(lambda x: 1 if x == 0 else -1)\n",
        "\n",
        "# 4. Sharpe Ratio 계산\n",
        "expected_return = returns.mean()\n",
        "risk = returns.std()\n",
        "sharpe_ratio = expected_return / risk if risk > 0 else 0\n",
        "\n",
        "# 5. 결과 출력\n",
        "print(f\"투자 기준 확률: {threshold}\")\n",
        "print(f\"총 투자 건수: {len(returns)}\")\n",
        "print(f\"평균 수익률: {expected_return:.4f}\")\n",
        "print(f\"수익률 표준편차: {risk:.4f}\")\n",
        "print(f\"Sharpe Ratio: {sharpe_ratio:.4f}\")\n"
      ],
      "metadata": {
        "colab": {
          "base_uri": "https://localhost:8080/"
        },
        "id": "5XY9Y_DzZIdl",
        "outputId": "c2f1d454-29ad-408c-9eb3-5bd88dc4901a"
      },
      "execution_count": 4,
      "outputs": [
        {
          "output_type": "stream",
          "name": "stdout",
          "text": [
            "투자 기준 확률: 0.7\n",
            "총 투자 건수: 21278\n",
            "평균 수익률: 0.6055\n",
            "수익률 표준편차: 0.7959\n",
            "Sharpe Ratio: 0.7608\n"
          ]
        }
      ]
    },
    {
      "cell_type": "code",
      "source": [],
      "metadata": {
        "id": "hQs8VSfsaaev"
      },
      "execution_count": null,
      "outputs": []
    }
  ]
}